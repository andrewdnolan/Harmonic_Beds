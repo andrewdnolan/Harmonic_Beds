{
 "cells": [
  {
   "cell_type": "markdown",
   "metadata": {},
   "source": [
    "# `SVR` Regression using `sklearn`\n",
    "\n",
    "Using the tunned parameters from [Young and others](https://www.cambridge.org/core/journals/journal-of-glaciology/article/an-imbalancing-act-the-delayed-dynamic-response-of-the-kaskawulsh-glacier-to-sustained-mass-loss/350065B3C0CD9A900DCBA7D60445D583) (2021), Eriks ran his model for Little Kluane for $2007-2018$. Using the time averaged rasters from Eriks model runs we want to fit an regression to his data to be used in to generate \"sythetic\" Little Kluane's in `Elmer/Ice` for Alexi to asses the preformance of his inversion procedure. Based on some back and forth the `#glacier-bed-inversions` channel (on 03/02/2021), we have decided to use a Supprt Vector Regression implemented throught rhe `sklearn` module. "
   ]
  },
  {
   "cell_type": "code",
   "execution_count": 1,
   "metadata": {},
   "outputs": [],
   "source": [
    "import time \n",
    "import numpy as np \n",
    "import matplotlib.pyplot as plt \n",
    "\n",
    "import pickle\n",
    "from sklearn.svm import SVR\n",
    "from sklearn.model_selection import GridSearchCV\n",
    "from sklearn.model_selection import train_test_split\n",
    "\n",
    "plt.rcParams['text.usetex'] = True "
   ]
  },
  {
   "cell_type": "code",
   "execution_count": 2,
   "metadata": {},
   "outputs": [],
   "source": [
    "MB  = np.load('../Data/SMB/EMY_data/surgio_withdeb_NMB.npy') # annual mass balance data from EMY\n",
    "ZZ  = np.load('../Data/SMB/EMY_data/surgio_Zs.npy')          # Elevation used by EMY\n",
    "\n",
    "# Take temporal average of mb data and convert from mwe a^{-1} to m a^{-1}\n",
    "MB  = np.mean(MB,axis=0)*1000.0/910.            # Annual mean mass balance in [m a^{-1}]\n"
   ]
  },
  {
   "cell_type": "markdown",
   "metadata": {},
   "source": [
    "The regression won't be able to handle `nans` so lets remove all the `nan`s from the raster, flatten it to a column vector, and remove an outliers."
   ]
  },
  {
   "cell_type": "code",
   "execution_count": 3,
   "metadata": {},
   "outputs": [],
   "source": [
    "# Get rid of nans and outlier\n",
    "z   = ZZ[(~np.isnan(MB)) & ~(MB < -10)]\n",
    "b   = MB[(~np.isnan(MB)) & ~(MB < -10)] "
   ]
  },
  {
   "cell_type": "markdown",
   "metadata": {},
   "source": [
    "For the regression our data needs to be sorted, so let's sort both elevation ($z$) and $\\dot b$ based on $z$. Furthermore, the `X` vector (the dependent variable in regression) needs to be a column vector for `sklearn`, so let's reshape that aswell. "
   ]
  },
  {
   "cell_type": "code",
   "execution_count": 4,
   "metadata": {},
   "outputs": [],
   "source": [
    "#return the indexes of the sorted arrays\n",
    "idx = z.argsort()\n",
    "\n",
    "#sort the arrays based on the elevation\n",
    "z   = z[idx].reshape(-1,1)\n",
    "b   = b[idx]    "
   ]
  },
  {
   "cell_type": "markdown",
   "metadata": {},
   "source": [
    "Support Vector Regression (`SVR`) is an extension of support vector classification. From the `sklearn` user guide for `SVR`:  \n",
    "\n",
    "> ...the model produced by Support Vector Regression depends only on a subset of the training data, because the cost function ignores samples whose prediction is close to their target.\n",
    "\n",
    "Therefore, to speed computational effiency we should split our data into training and testing sets. Since `SVR` only depends of a subbset of the data, we should only need to use a fairly small portion of the data as the training data. \n",
    "\n",
    "__Note :__ `SVR` is not scale invariant. We may want/need to normalize the data as described [here](https://scikit-learn.org/stable/modules/svm.html#tips-on-practical-use). "
   ]
  },
  {
   "cell_type": "code",
   "execution_count": 5,
   "metadata": {},
   "outputs": [],
   "source": [
    "z_train, z_test, b_train, b_test \\\n",
    "    = train_test_split(z, b, train_size=0.3, random_state=1)"
   ]
  },
  {
   "cell_type": "markdown",
   "metadata": {},
   "source": [
    "There are multiple options for the kernel used to determine the weights: Linear, polynomial, and radial basis functions. Without having seriously tested other kernel options, it seems like we are leaning towards using a radial basis function `RBF` for our kernel. We can test other kernel option later if need be.  \n",
    "\n",
    "When using a `RBF` kernel, the two hyperparameters in the model tuning are `C` and `gamma`. From the `sklearn` [user guide on `SVR`](https://scikit-learn.org/stable/modules/svm.html#parameters-of-the-rbf-kernel):\n",
    "\n",
    "> The parameter `C`, common to all `SVM` kernels, trades off misclassification of training examples against simplicity of the decision surface. \n",
    ">A low `C` makes the decision surface smooth, while a high `C` aims at classifying all training examples correctly. \n",
    "> `gamma` defines how much influence a single training example has. The larger `gamma` is, the closer other examples must be to be affected.\n",
    "\n",
    "Therefore let's use [`GridSearchCV`](https://scikit-learn.org/stable/modules/generated/sklearn.model_selection.GridSearchCV.html#sklearn.model_selection.GridSearchCV) to fit the hyperparameters `C` and `gamma`. "
   ]
  },
  {
   "cell_type": "code",
   "execution_count": 6,
   "metadata": {},
   "outputs": [],
   "source": [
    "svr = GridSearchCV(SVR(kernel='rbf', gamma=0.1),\n",
    "                   param_grid={\"C\"    : np.geomspace(1e-3, 1e2, 6),\n",
    "                               \"gamma\": np.geomspace(1e-6, 1e0, 7)})"
   ]
  },
  {
   "cell_type": "markdown",
   "metadata": {},
   "source": [
    "Lets fit our model over the defined hyperparamter grid and record the time it takes to fit our hyperparameters. "
   ]
  },
  {
   "cell_type": "code",
   "execution_count": 7,
   "metadata": {},
   "outputs": [
    {
     "name": "stdout",
     "output_type": "stream",
     "text": [
      "SVR complexity and bandwidth selected and model fitted in 54.841 s\n"
     ]
    }
   ],
   "source": [
    "t0 = time.time()\n",
    "svr.fit(z_train, b_train);\n",
    "svr_fit = time.time() - t0\n",
    "\n",
    "print(\"SVR complexity and bandwidth selected and model fitted in {:.3f} s\".format(svr_fit))"
   ]
  },
  {
   "cell_type": "markdown",
   "metadata": {},
   "source": [
    "`SVR` will only use a subset of the training data as support vectors. The number of support vectors will be dependent upon the optimal value of parameter `C`, since \"trades off misclassification of training examples against simplicity of the decision surface\". Therefore lets see what fraction of the training set was used as support vectors for the `best_estimator_`: "
   ]
  },
  {
   "cell_type": "code",
   "execution_count": 8,
   "metadata": {},
   "outputs": [
    {
     "name": "stdout",
     "output_type": "stream",
     "text": [
      "Support vector ratio: 0.519\n"
     ]
    }
   ],
   "source": [
    "sv_ratio = svr.best_estimator_.support_.shape[0] / z_train.shape[0]\n",
    "print(\"Support vector ratio: {:.3f}\".format(sv_ratio))"
   ]
  },
  {
   "cell_type": "markdown",
   "metadata": {},
   "source": [
    "Now, using the best hyperparamters from the cross validation grid search, lets fit the model.  "
   ]
  },
  {
   "cell_type": "code",
   "execution_count": 9,
   "metadata": {},
   "outputs": [],
   "source": [
    "b_hat = svr.predict(z)"
   ]
  },
  {
   "cell_type": "markdown",
   "metadata": {},
   "source": [
    "Lets take a look at our results: "
   ]
  },
  {
   "cell_type": "code",
   "execution_count": 10,
   "metadata": {},
   "outputs": [
    {
     "data": {
      "image/png": "[encoded data removed]",
      "text/plain": [
       "<Figure size 432x288 with 1 Axes>"
      ]
     },
     "metadata": {
      "needs_background": "light"
     },
     "output_type": "display_data"
    }
   ],
   "source": [
    "fig, ax = plt.subplots(1,1)\n",
    "\n",
    "ax.scatter(z, b, marker='o', s=10,  facecolor=\"none\", edgecolor='tab:blue', label='Raw EMY data')\n",
    "ax.plot(z,b_hat,color='r', \n",
    "        label = '$\\gamma = {{{:1.0e}}}, \\;\\; C = {{{:3.0f}}}$'.format(svr.best_estimator_.gamma, svr.best_estimator_.C))\n",
    "ax.legend()\n",
    "\n",
    "ax.text(3250, -6, '$R^2$ = {:1.3f}'.format(svr.best_estimator_.score(z,b)))\n",
    "\n",
    "ax.set_title('Support vector regression using a radial basis function')\n",
    "ax.set_ylabel('$\\dot b$ (m a$^{-1}$)')\n",
    "\n",
    "ax.set_xlabel('m a.s.l.')\n",
    "\n",
    "fig.savefig('../plots/svr_regression.png', dpi=400, bbox_inches='tight',facecolor='w')"
   ]
  },
  {
   "cell_type": "markdown",
   "metadata": {},
   "source": [
    "How about the residuals? "
   ]
  },
  {
   "cell_type": "code",
   "execution_count": 11,
   "metadata": {},
   "outputs": [
    {
     "data": {
      "image/png": "[encoded data removed]",
      "text/plain": [
       "<Figure size 432x288 with 1 Axes>"
      ]
     },
     "metadata": {
      "needs_background": "light"
     },
     "output_type": "display_data"
    }
   ],
   "source": [
    "fig, ax = plt.subplots(1,1)\n",
    "\n",
    "mu  = np.mean(b-b_hat)\n",
    "std = np.std(b-b_hat,ddof=1)\n",
    "\n",
    "#######################################################################\n",
    "# Plot residuals\n",
    "#######################################################################\n",
    "_ = ax.hist(b-b_hat,\n",
    "            bins=np.sqrt(len(b)).astype(int), \n",
    "            edgecolor='k', \n",
    "            label = 'residuals \\n $\\mu=${:1.3e}, $\\sigma=${:2.3f}'.format(mu, std))\n",
    "\n",
    "mu  = np.mean(b-b_hat)\n",
    "std = np.std(b-b_hat,ddof=1)\n",
    "\n",
    "ax.axvline(mu-std, ls=':', c='k', lw=1, label='$\\mu \\pm \\sigma$')\n",
    "ax.axvline(mu,     ls='-', c='k', lw=1, label='$\\mu$')\n",
    "ax.axvline(mu+std, ls=':', c='k', lw=1)\n",
    "\n",
    "ax.set_title('Residuals from SVR using a RBF')\n",
    "ax.set_ylabel('Frequency')\n",
    "ax.set_xlabel('$\\dot b$ (m a$^{-1}$)')\n",
    "\n",
    "ax.legend()\n",
    "\n",
    "fig.savefig('../plots/svr_regression_residual.png', dpi=400, bbox_inches='tight',facecolor='w')"
   ]
  },
  {
   "cell_type": "markdown",
   "metadata": {},
   "source": [
    "Great! Final step will be saving (serializing) our fitted model so we can use it later down the line. We'll do our serialization with `pickle`, but we may want to switch to `joblib` for the sake of effiency. For more info see [here](https://scikit-learn.org/stable/modules/model_persistence.html) or [here](https://stackabuse.com/scikit-learn-save-and-restore-models/). "
   ]
  },
  {
   "cell_type": "code",
   "execution_count": 13,
   "metadata": {},
   "outputs": [],
   "source": [
    "pkl_fn = \"../Data/SMB/SVR/svr_model.pkl\"\n",
    "\n",
    "# write the file \n",
    "with open(pkl_fn, 'wb') as file:\n",
    "    pickle.dump(svr, file)"
   ]
  },
  {
   "cell_type": "markdown",
   "metadata": {},
   "source": [
    "Now, the serialized model will be great when working in `python`, but of no use from `Elmer/Ice` or `Fortran` during simulations. \n",
    "Therefore, we need to the predictions ourselves using the support vectors $SV$, the dual coefficents $\\alpha_i - \\alpha_i^*$, and the independent term  $b$. Therefore, we will need to make predictions ($\\hat y$) such that: \n",
    "\n",
    "$$\n",
    "\\hat y = \\sum_{i \\in SV}(\\alpha_i - \\alpha_i^*) K(x_i, x) + b\n",
    "$$\n",
    "\n",
    "where $SV$ are support vectors (storred in attribute `support_vectors_`), $\\alpha_i - \\alpha_i^*$ are our dual coeffiecents (storred in attribute `dual_coef_`), $b$ is the intercept (storred in attribute `intercept_`), and `K(x_i, x)` is the kernel. Ther kernel $K(x_i, x)$ takes as input $x_i$; the $i$-th $SV$ and $x$; the vector of points where we want to make predictions. We use a radial basis kernel for our SVR, of the from: \n",
    "$$\n",
    "\\exp(-\\gamma \\|x-x'\\|^2), \n",
    "$$\n",
    "where $x$ are our support vectors and $x'$ are the locations where we want to make predictions. "
   ]
  },
  {
   "cell_type": "markdown",
   "metadata": {},
   "source": [
    "The vectorized form of this caculation is python is as follows: "
   ]
  },
  {
   "cell_type": "code",
   "execution_count": 14,
   "metadata": {},
   "outputs": [],
   "source": [
    "test = np.dot(svr.best_estimator_.dual_coef_, \n",
    "    np.exp(-svr.best_estimator_.gamma * np.abs(svr.best_estimator_.support_vectors_ - z.T)**2)) + svr.best_estimator_.intercept_"
   ]
  },
  {
   "cell_type": "markdown",
   "metadata": {},
   "source": [
    "We can confirm this manual prediction is correct by looking at the $L2$ norm of the difference between `sklearn`'s prediction and our own: "
   ]
  },
  {
   "cell_type": "code",
   "execution_count": 15,
   "metadata": {},
   "outputs": [
    {
     "data": {
      "text/plain": [
       "8.082075799653907e-11"
      ]
     },
     "execution_count": 15,
     "metadata": {},
     "output_type": "execute_result"
    }
   ],
   "source": [
    "np.linalg.norm(b_hat - test)"
   ]
  },
  {
   "cell_type": "markdown",
   "metadata": {},
   "source": [
    "We can do this as a vectorized oppperation in `FORTRAN` using the intrinsic fucntion `SPREAD` but this is of limited use to us when trying to assign values in Elmer. The most strait forward way to assign/calculate boundary values (i.e. field values along a boundary (e.g. surface)) is to loop over all the nodes. Therefore, lets figure out how to do this calculation nodally (i.e. at one point at a time): "
   ]
  },
  {
   "cell_type": "code",
   "execution_count": 16,
   "metadata": {},
   "outputs": [
    {
     "name": "stdout",
     "output_type": "stream",
     "text": [
      "\\gamma   : 1e-05\n",
      "interecpt: -1.2393076753413321\n"
     ]
    }
   ],
   "source": [
    "# Save the support vectors\n",
    "np.savetxt('../Data/SMB/SVR/support_vectors.dat',\n",
    "          svr.best_estimator_.support_vectors_[:,0])\n",
    "\n",
    "# Save the dual coefficents\n",
    "np.savetxt('../Data/SMB/SVR/dual_coef.dat',\n",
    "         svr.best_estimator_.dual_coef_[0,:])\n",
    "\n",
    "print('\\gamma   :', svr.best_estimator_.gamma)\n",
    "print('interecpt:', svr.best_estimator_.intercept_[0])"
   ]
  },
  {
   "cell_type": "code",
   "execution_count": 17,
   "metadata": {},
   "outputs": [
    {
     "data": {
      "text/plain": [
       "array([[2.79960278]])"
      ]
     },
     "execution_count": 17,
     "metadata": {},
     "output_type": "execute_result"
    }
   ],
   "source": [
    "np.matmul(svr.best_estimator_.dual_coef_,\n",
    "         np.exp(-svr.best_estimator_.gamma * np.abs(svr.best_estimator_.support_vectors_ - z[-1])**2)) + svr.best_estimator_.intercept_"
   ]
  },
  {
   "cell_type": "code",
   "execution_count": 18,
   "metadata": {},
   "outputs": [],
   "source": [
    "#y_hat_fortan = np.loadtxt('../Data/SVR/fortran_svr_prediction.dat')[:,1]"
   ]
  },
  {
   "cell_type": "code",
   "execution_count": 19,
   "metadata": {},
   "outputs": [],
   "source": [
    "#np.linalg.norm(b_hat - y_hat_fortan)"
   ]
  },
  {
   "cell_type": "code",
   "execution_count": 20,
   "metadata": {},
   "outputs": [],
   "source": [
    "#plt.plot(b_hat)\n",
    "# _ = plt.hist(b_hat - y_hat_fortan, bins=np.sqrt(test.shape[1]).astype(np.int))\n",
    "# _ = plt.hist(b_hat - test[0,:], bins=np.sqrt(test.shape[1]).astype(np.int))\n"
   ]
  },
  {
   "cell_type": "code",
   "execution_count": 21,
   "metadata": {},
   "outputs": [
    {
     "name": "stdout",
     "output_type": "stream",
     "text": [
      "-1.000000000000000000e+02\r\n",
      "1.000000000000000000e+02\r\n",
      "1.000000000000000000e+02\r\n",
      "1.000000000000000000e+02\r\n",
      "1.000000000000000000e+02\r\n",
      "1.000000000000000000e+02\r\n",
      "-1.000000000000000000e+02\r\n",
      "-1.000000000000000000e+02\r\n",
      "1.000000000000000000e+02\r\n",
      "1.000000000000000000e+02\r\n"
     ]
    }
   ],
   "source": [
    "!head '../Data/SMB/SVR/dual_coef.dat'"
   ]
  },
  {
   "cell_type": "code",
   "execution_count": 22,
   "metadata": {},
   "outputs": [
    {
     "data": {
      "text/plain": [
       "[<matplotlib.lines.Line2D at 0x7fc1ec372cd0>]"
      ]
     },
     "execution_count": 22,
     "metadata": {},
     "output_type": "execute_result"
    },
    {
     "data": {
      "image/png": "[encoded data removed]",
      "text/plain": [
       "<Figure size 432x288 with 1 Axes>"
      ]
     },
     "metadata": {
      "needs_background": "light"
     },
     "output_type": "display_data"
    }
   ],
   "source": [
    "plt.plot(z, b_hat, 'x', markersize=1)"
   ]
  },
  {
   "cell_type": "code",
   "execution_count": 23,
   "metadata": {},
   "outputs": [
    {
     "data": {
      "text/plain": [
       "[<matplotlib.lines.Line2D at 0x7fc1ec3f7a50>]"
      ]
     },
     "execution_count": 23,
     "metadata": {},
     "output_type": "execute_result"
    },
    {
     "data": {
      "image/png": "[encoded data removed]",
      "text/plain": [
       "<Figure size 432x288 with 1 Axes>"
      ]
     },
     "metadata": {
      "needs_background": "light"
     },
     "output_type": "display_data"
    }
   ],
   "source": [
    "Z, dZ = np.linspace(z.min(),z.max(),10000, retstep=True)\n",
    "b_hat = svr.predict(Z[:,np.newaxis])\n",
    "\n",
    "plt.plot(Z, np.gradient(b_hat.ravel(), dZ))"
   ]
  }
 ],
 "metadata": {
  "kernelspec": {
   "display_name": "Python 3",
   "language": "python",
   "name": "python3"
  },
  "language_info": {
   "codemirror_mode": {
    "name": "ipython",
    "version": 3
   },
   "file_extension": ".py",
   "mimetype": "text/x-python",
   "name": "python",
   "nbconvert_exporter": "python",
   "pygments_lexer": "ipython3",
   "version": "3.7.8"
  },
  "latex_envs": {
   "LaTeX_envs_menu_present": true,
   "autoclose": true,
   "autocomplete": true,
   "bibliofile": "ipython.bib",
   "cite_by": "apalike",
   "current_citInitial": 1,
   "eqLabelWithNumbers": true,
   "eqNumInitial": 1,
   "hotkeys": {
    "equation": "Ctrl-E",
    "itemize": "Ctrl-I"
   },
   "labels_anchors": false,
   "latex_user_defs": false,
   "report_style_numbering": false,
   "user_envs_cfg": false
  }
 },
 "nbformat": 4,
 "nbformat_minor": 4
}
