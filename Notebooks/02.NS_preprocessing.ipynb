{
 "cells": [
  {
   "cell_type": "markdown",
   "metadata": {},
   "source": [
    "# Psuedo-Surge Simulation of Synthetic Little Kluane  \n",
    "\n",
    "Using Eriks code as staring place, lets spin-up some transient simulations with pseudo-surges. \n",
    "\n",
    "Here's the `MATC` code Erik uses to describe space and time dependent slip coefficent:\n",
    "```\n",
    "  Slip Coefficient 2 = Variable TimeStep, Coordinate 1, Coordinate 2\n",
    "        Real MATC \"if (tx(1) > 15000) (0.01); \n",
    "        if (tx(2) < 14000) (0.01); \n",
    "        if (0.995 < sin((tx(0)-10.0)*0.1)) ((-tx(0)+26.0)*0.0001); \n",
    "        else (0.01);\"\n",
    "```\n",
    "\n"
   ]
  },
  {
   "cell_type": "code",
   "execution_count": 1,
   "metadata": {},
   "outputs": [],
   "source": [
    "import numpy as np \n",
    "import matplotlib.pyplot as plt"
   ]
  },
  {
   "cell_type": "code",
   "execution_count": 27,
   "metadata": {},
   "outputs": [
    {
     "data": {
      "text/plain": [
       "<matplotlib.lines.Line2D at 0x7fa1d0fc1d90>"
      ]
     },
     "execution_count": 27,
     "metadata": {},
     "output_type": "execute_result"
    },
    {
     "data": {
      "image/png": "[encoded data removed]",
      "text/plain": [
       "<Figure size 432x288 with 1 Axes>"
      ]
     },
     "metadata": {
      "needs_background": "light"
     },
     "output_type": "display_data"
    }
   ],
   "source": [
    "# time vector (a)\n",
    "t = np.linspace(0,50,51)\n",
    "# Slip coefficent \n",
    "β = np.sin((t-10.0)*0.1)\n",
    "plt.plot(t, np.sin((t-10.0)*0.1))\n",
    "plt.plot(t[0.995 < β], β[0.995 < β], 'rx')\n",
    "\n",
    "plt.axvline(23)\n",
    "plt.axvline(28)"
   ]
  },
  {
   "cell_type": "code",
   "execution_count": 25,
   "metadata": {},
   "outputs": [
    {
     "data": {
      "text/plain": [
       "array([0.0001, 0.    ])"
      ]
     },
     "execution_count": 25,
     "metadata": {},
     "output_type": "execute_result"
    }
   ],
   "source": [
    "(-1*t[0.995 < β] + 26.0) *0.0001"
   ]
  },
  {
   "cell_type": "code",
   "execution_count": null,
   "metadata": {},
   "outputs": [],
   "source": []
  }
 ],
 "metadata": {
  "kernelspec": {
   "display_name": "Python 3",
   "language": "python",
   "name": "python3"
  },
  "language_info": {
   "codemirror_mode": {
    "name": "ipython",
    "version": 3
   },
   "file_extension": ".py",
   "mimetype": "text/x-python",
   "name": "python",
   "nbconvert_exporter": "python",
   "pygments_lexer": "ipython3",
   "version": "3.7.8"
  }
 },
 "nbformat": 4,
 "nbformat_minor": 4
}
