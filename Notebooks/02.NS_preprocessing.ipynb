{
 "cells": [
  {
   "cell_type": "markdown",
   "metadata": {},
   "source": [
    "# Psuedo-Surge Simulation of Synthetic Little Kluane  \n",
    "\n",
    "\n",
    "Before we figure out the best way to prescribe sliding in `Elmer` let's first take some time to understand how sliding in prescribed in `Elmer`. \n",
    "In `Elmer/Ice` the default sliding law is of the form: \n",
    "$$\n",
    "\\tau = \\beta^2 u\n",
    "$$\n",
    "where $\\tau$ is traction (i.e. basal shear stress), $u$ is velocity in the tangetial plane, and $\\beta^{-2}$ is the slip coefficent. Let's use some example values from Cuffey and Patterson to look into units, and how we will need to scale to `Elmer/Ice` base units of MPa, a, m. \n",
    "Note, Cuffey and Patterson use a simpler measure of lubrication with an apparent drag factor, $\\psi$, a positive number\n",
    "defined by\n",
    "$$\n",
    "\\tau_b = \\psi u_b\n",
    "$$\n",
    "for a basal shear stress $\\tau_b$, and rate of slip $u_b$.\n",
    "Values listed below come from Table 7.2 in Cuffey and Patterson\n",
    "\n",
    "|    Glacier    | $\\tau_b$ <br>(kPa) | $u_b$ <br>(m y$^{-1}$) | $\\psi$<br>(kPa (m y$^{-1}$)$^{-1}$) |\n",
    "|:-------------:|:------------------:|:----------------------:|:-----------------------------------:|\n",
    "|   Trapridge   |         80         |           30           |        $\\approx$ 3                  |\n",
    "| Storglaciären |         40         |           30           |        $\\approx$ 1                  |\n",
    "\n",
    "So, let's begin by scaling these example parameter values to `Elmer/Ice` base units (MPa, a, m): \n",
    "\n",
    "|    Glacier    | $\\tau_b$ <br>(MPa) | $u_b$ <br>(m y$^{-1}$) | $\\psi$<br>(kPa (m y$^{-1}$)$^{-1}$) |\n",
    "|:-------------:|:------------------:|:----------------------:|:-----------------------------------:|\n",
    "|   Trapridge   |         8e-2       |           30           |       $\\approx$ 3e-3                |\n",
    "| Storglaciären |         4e-2       |           30           |       $\\approx$ 1e-3                |\n",
    "\n",
    "\n",
    "Great! Now we can see from these two simple formulations: \n",
    "$$\n",
    "\\beta = \\sqrt{\\psi}\n",
    "$$\n",
    "\n",
    "Let's use our inital conditions (i.e. $z_s$ and $z_b$) to figure out the corresponding value of $\\beta$ for some set value of $u_b$. To do this we will need to make an approximation of $\\tau_b$ using the approximation: \n",
    "\n",
    "$$\n",
    "\\tau_b = \\rho g H \\sin \\alpha\n",
    "$$\n",
    "\n",
    "where $\\rho$ is the ice density, $g$ is the acceleration due to gravity, and $\\alpha$ is the suface slope. \n",
    "\n",
    "First, lets make sure our units are going to be correct during these back of the envelope calculations: "
   ]
  },
  {
   "cell_type": "code",
   "execution_count": 1,
   "metadata": {},
   "outputs": [],
   "source": [
    "import pint \n",
    "import numpy as np \n",
    "import matplotlib.pyplot as plt \n",
    "ureg = pint.UnitRegistry()\n",
    "\n",
    "#############################################\n",
    "# units\n",
    "#############################################\n",
    "a   = ureg.year             # [a]\n",
    "s   = ureg.sec              # [s]\n",
    "m   = ureg.meter            # [m]\n",
    "kg  = ureg.kilogram         # [kg]\n",
    "kPa = ureg('kPa')           # [kPa]\n",
    "MPa = ureg('MPa')           # [MPa]\n",
    "\n",
    "#############################################\n",
    "# parameters (S.I. units)\n",
    "#############################################\n",
    "spy   = 365.25*24*60*60 * (s/a)                    # [s a^-1]\n",
    "ρ     = 910             * (kg*m**-3)               # [Kg m^-3]\n",
    "g     = 9.81            * (m*s**-2)                # [m s^-2]\n",
    "\n",
    "#############################################\n",
    "# parameters (Elmer/Ice)\n",
    "#############################################\n",
    "ρ     = ρ * (MPa/MPa.to_base_units()) * spy**-2    # [MPa m^-2 a^2] <--[Kg m^-3]\n",
    "g     = g * spy**2                                 # [m a^-2] <--------[m s^-2]"
   ]
  },
  {
   "cell_type": "markdown",
   "metadata": {},
   "source": [
    "Great. Let's now read in our inital conditions and assign the appropraite units: "
   ]
  },
  {
   "cell_type": "code",
   "execution_count": 2,
   "metadata": {},
   "outputs": [],
   "source": [
    "x_c = np.loadtxt('../Data/SurfTopo.dat')[:,0]    # x-coordinate\n",
    "z_s = np.loadtxt('../Data/SurfTopo.dat')[:,1]    # surface elevation (m a.s.l.)\n",
    "z_b = np.loadtxt('../Data/BedTopo.dat')[:,1]     # bed evelation (m a.s.l.)\n",
    "\n",
    "H      = (z_s - z_b) * m                         # Ice thickness (m)\n",
    "α      = np.zeros_like(H) * m/m                  # Surface slope (m/m)\n",
    "# Surface slope only valid where H>0\n",
    "α[H>0] = np.gradient(z_s[H>0], x_c[H>0])         "
   ]
  },
  {
   "cell_type": "markdown",
   "metadata": {},
   "source": [
    "Now let's solve for the approximation of the basal shear stress ($\\tau_b$) for \"synthetic\" little Kluane "
   ]
  },
  {
   "cell_type": "code",
   "execution_count": 3,
   "metadata": {},
   "outputs": [],
   "source": [
    "# Approximation of the basal shear stress for LK\n",
    "𝜏 = ρ*g*H*np.sin(α)"
   ]
  },
  {
   "cell_type": "markdown",
   "metadata": {},
   "source": [
    "Now let's solve for the $\\beta$ corresponding to $u_b$ = 365 (m a$^{-1}$) or 1 (m d$^{-1}$). "
   ]
  },
  {
   "cell_type": "code",
   "execution_count": 4,
   "metadata": {},
   "outputs": [],
   "source": [
    "β_sqaured = 𝜏 / (365. * m /a)"
   ]
  },
  {
   "cell_type": "code",
   "execution_count": 10,
   "metadata": {},
   "outputs": [
    {
     "data": {
      "text/html": [
       "0.0004470242501707213 megapascal year/meter"
      ],
      "text/latex": [
       "$0.0004470242501707213\\ \\frac{\\mathrm{megapascal} \\cdot \\mathrm{year}}{\\mathrm{meter}}$"
      ],
      "text/plain": [
       "0.0004470242501707213 <Unit('megapascal * year / meter')>"
      ]
     },
     "execution_count": 10,
     "metadata": {},
     "output_type": "execute_result"
    }
   ],
   "source": [
    "np.mean(β_sqaured[β_sqaured>0.0])"
   ]
  },
  {
   "cell_type": "code",
   "execution_count": null,
   "metadata": {},
   "outputs": [],
   "source": [
    "β_sqaured"
   ]
  },
  {
   "cell_type": "markdown",
   "metadata": {},
   "source": [
    "Using Eriks code as staring place, lets spin-up some transient simulations with pseudo-surges. \n",
    "\n",
    "Here's the `MATC` code Erik uses to describe space and time dependent slip coefficent:\n",
    "```\n",
    "  Slip Coefficient 2 = Variable TimeStep, Coordinate 1, Coordinate 2\n",
    "        Real MATC \"if (tx(1) > 15000) (0.01); \n",
    "        if (tx(2) < 14000) (0.01); \n",
    "        if (0.995 < sin((tx(0)-10.0)*0.1)) ((-tx(0)+26.0)*0.0001); \n",
    "        else (0.01);\"\n",
    "```\n",
    "\n",
    "In `Elmer/Ice` the default sliding law is of the form: \n",
    "$$\n",
    "\\tau = \\beta^2 u\n",
    "$$\n",
    "where $\\tau$ is traction (i.e. basal shear stress), $u$ is velocity in the tangetial plane, and $\\beta^{-2}$ is the slip coefficent. "
   ]
  },
  {
   "cell_type": "code",
   "execution_count": null,
   "metadata": {},
   "outputs": [],
   "source": []
  },
  {
   "cell_type": "code",
   "execution_count": null,
   "metadata": {},
   "outputs": [],
   "source": [
    "import numpy as np \n",
    "import matplotlib.pyplot as plt"
   ]
  },
  {
   "cell_type": "code",
   "execution_count": null,
   "metadata": {},
   "outputs": [],
   "source": [
    "# time vector (a)\n",
    "t = np.linspace(0,50,51)\n",
    "# Slip coefficent \n",
    "β = np.sin((t-10.0)*0.1)\n",
    "plt.plot(t, np.sin((t-10.0)*0.1))\n",
    "plt.plot(t[0.995 < β], β[0.995 < β], 'rx')\n",
    "\n",
    "plt.axvline(23)\n",
    "plt.axvline(28)"
   ]
  },
  {
   "cell_type": "code",
   "execution_count": null,
   "metadata": {},
   "outputs": [],
   "source": []
  },
  {
   "cell_type": "code",
   "execution_count": null,
   "metadata": {},
   "outputs": [],
   "source": [
    "x_c = np.loadtxt('../Data/SurfTopo.dat')[:,0]\n",
    "z_s = np.loadtxt('../Data/SurfTopo.dat')[:,1]\n",
    "z_b = np.loadtxt('../Data/BedTopo.dat')[:,1]\n",
    "\n",
    "H      = z_s - z_b\n",
    "a      = np.zeros_like(H)\n",
    "a[H>0] = np.gradient(z_s[H>0], x_c[H>0])"
   ]
  },
  {
   "cell_type": "code",
   "execution_count": null,
   "metadata": {},
   "outputs": [],
   "source": [
    "plt.plot(x_c,z_s)\n",
    "plt.plot(x_c,z_b)\n",
    "\n",
    "plt.plot(x_c[(x_c>13000) & (x_c<16000)], z_b[(x_c>13000) & (x_c<16000)])"
   ]
  },
  {
   "cell_type": "code",
   "execution_count": null,
   "metadata": {},
   "outputs": [],
   "source": [
    "910. * 9.81 * H * np.sin(a) * (60*60*24)**2 * 1e-6"
   ]
  },
  {
   "cell_type": "code",
   "execution_count": null,
   "metadata": {},
   "outputs": [],
   "source": [
    "t = np.linspace(1,10,100)\n",
    "β = np.zeros(t.shape[0])"
   ]
  },
  {
   "cell_type": "code",
   "execution_count": null,
   "metadata": {},
   "outputs": [],
   "source": [
    "for i, timestep in enumerate(t): \n",
    "    if timestep < 5.5: \n",
    "        β[i] = ((0.1-1.0)/(4.5)) * timestep + 1.2\n",
    "        #print(timestep)\n",
    "    else: \n",
    "        β[i] = -((0.1-1.0)/(4.5)) * timestep - 1.0"
   ]
  },
  {
   "cell_type": "code",
   "execution_count": null,
   "metadata": {},
   "outputs": [],
   "source": [
    "β"
   ]
  },
  {
   "cell_type": "code",
   "execution_count": null,
   "metadata": {},
   "outputs": [],
   "source": [
    "plt.plot(t, β)"
   ]
  },
  {
   "cell_type": "code",
   "execution_count": null,
   "metadata": {},
   "outputs": [],
   "source": [
    "beta = np.ones((x_c.shape[0], t.shape[0]))*0.01"
   ]
  },
  {
   "cell_type": "code",
   "execution_count": null,
   "metadata": {},
   "outputs": [],
   "source": [
    "beta[(x_c>18000), (0.995 < np.sin((t-10.0)*0.1))] = 0.001"
   ]
  },
  {
   "cell_type": "code",
   "execution_count": null,
   "metadata": {},
   "outputs": [],
   "source": [
    "for i, j in enumerate(t):\n",
    "    if (0.995 < np.sin((j-10.0)*0.1)): \n",
    "        \n",
    "        beta[(x_c>18000),i] = (-j+26.0)*0.001"
   ]
  },
  {
   "cell_type": "code",
   "execution_count": null,
   "metadata": {},
   "outputs": [],
   "source": [
    "10 - 5.5"
   ]
  },
  {
   "cell_type": "code",
   "execution_count": null,
   "metadata": {},
   "outputs": [],
   "source": []
  }
 ],
 "metadata": {
  "kernelspec": {
   "display_name": "Python 3",
   "language": "python",
   "name": "python3"
  },
  "language_info": {
   "codemirror_mode": {
    "name": "ipython",
    "version": 3
   },
   "file_extension": ".py",
   "mimetype": "text/x-python",
   "name": "python",
   "nbconvert_exporter": "python",
   "pygments_lexer": "ipython3",
   "version": "3.7.8"
  }
 },
 "nbformat": 4,
 "nbformat_minor": 4
}
