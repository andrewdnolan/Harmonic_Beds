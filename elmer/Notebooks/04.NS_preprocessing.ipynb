{
 "cells": [
  {
   "cell_type": "markdown",
   "metadata": {},
   "source": [
    "# Psuedo-Surge Simulation of Synthetic Little Kluane  \n",
    "\n",
    "\n",
    "Before we figure out the best way to prescribe sliding in `Elmer` let's first take some time to understand how sliding in prescribed in `Elmer`. \n",
    "In `Elmer/Ice` the default sliding law is of the form: \n",
    "$$\n",
    "\\tau = \\beta^2 u\n",
    "$$\n",
    "where $\\tau$ is traction (i.e. basal shear stress), $u$ is velocity in the tangetial plane, and $\\beta^{-2}$ is the slip coefficent. Let's use some example values from Cuffey and Patterson to look into units, and how we will need to scale to `Elmer/Ice` base units of MPa, a, m. \n",
    "Note, Cuffey and Patterson use a simpler measure of lubrication with an apparent drag factor, $\\psi$, a positive number\n",
    "defined by\n",
    "$$\n",
    "\\tau_b = \\psi u_b\n",
    "$$\n",
    "for a basal shear stress $\\tau_b$, and rate of slip $u_b$.\n",
    "Values listed below come from Table 7.2 in Cuffey and Patterson\n",
    "\n",
    "|    Glacier    | $\\tau_b$ <br>(kPa) | $u_b$ <br>(m y$^{-1}$) | $\\psi$<br>(kPa (m y$^{-1}$)$^{-1}$) |\n",
    "|:-------------:|:------------------:|:----------------------:|:-----------------------------------:|\n",
    "|   Trapridge   |         80         |           30           |        $\\approx$ 3                  |\n",
    "| Storglaciären |         40         |           30           |        $\\approx$ 1                  |\n",
    "\n",
    "So, let's begin by scaling these example parameter values to `Elmer/Ice` base units (MPa, a, m): \n",
    "\n",
    "|    Glacier    | $\\tau_b$ <br>(MPa) | $u_b$ <br>(m y$^{-1}$) | $\\psi$<br>(MPa (m y$^{-1}$)$^{-1}$) |\n",
    "|:-------------:|:------------------:|:----------------------:|:-----------------------------------:|\n",
    "|   Trapridge   |         8e-2       |           30           |       $\\approx$ 3e-3                |\n",
    "| Storglaciären |         4e-2       |           30           |       $\\approx$ 1e-3                |\n",
    "\n",
    "\n",
    "Great! Now we can see from these two simple formulations: \n",
    "$$\n",
    "\\beta = \\sqrt{\\psi}\n",
    "$$\n",
    "\n",
    "Let's use our inital conditions (i.e. $z_s$ and $z_b$) to figure out the corresponding value of $\\beta$ for some set value of $u_b$. To do this we will need to make an approximation of $\\tau_b$ using the approximation: \n",
    "\n",
    "$$\n",
    "\\tau_b = \\rho g H \\sin \\alpha\n",
    "$$\n",
    "\n",
    "where $\\rho$ is the ice density, $g$ is the acceleration due to gravity, and $\\alpha$ is the suface slope. \n",
    "\n",
    "First, lets make sure our units are going to be correct during these back of the envelope calculations: "
   ]
  },
  {
   "cell_type": "code",
   "execution_count": 1,
   "metadata": {},
   "outputs": [],
   "source": [
    "import pint \n",
    "import numpy as np \n",
    "import matplotlib.pyplot as plt \n",
    "\n",
    "plt.rcParams['text.usetex'] = True\n",
    "\n",
    "ureg = pint.UnitRegistry()\n",
    "\n",
    "#############################################\n",
    "# units\n",
    "#############################################\n",
    "a   = ureg.year             # [a]\n",
    "s   = ureg.sec              # [s]\n",
    "m   = ureg.meter            # [m]\n",
    "kg  = ureg.kilogram         # [kg]\n",
    "kPa = ureg('kPa')           # [kPa]\n",
    "MPa = ureg('MPa')           # [MPa]\n",
    "\n",
    "#############################################\n",
    "# parameters (S.I. units)\n",
    "#############################################\n",
    "spy   = 365.25*24*60*60 * (s/a)                    # [s a^-1]\n",
    "ρ     = 910             * (kg*m**-3)               # [Kg m^-3]\n",
    "g     = 9.81            * (m*s**-2)                # [m s^-2]\n",
    "\n",
    "#############################################\n",
    "# parameters (Elmer/Ice)\n",
    "#############################################\n",
    "ρ     = ρ * (MPa/MPa.to_base_units()) * spy**-2    # [MPa m^-2 a^2] <--[Kg m^-3]\n",
    "g     = g * spy**2                                 # [m a^-2] <--------[m s^-2]"
   ]
  },
  {
   "cell_type": "markdown",
   "metadata": {},
   "source": [
    "Great. Let's now read in our inital conditions and assign the appropraite units: "
   ]
  },
  {
   "cell_type": "code",
   "execution_count": 2,
   "metadata": {},
   "outputs": [],
   "source": [
    "x_c = np.loadtxt('../Data/Topography/REF_SurfTopo.dat')[:,0]    # x-coordinate\n",
    "z_s = np.loadtxt('../Data/Topography/REF_SurfTopo.dat')[:,1]    # surface elevation (m a.s.l.)\n",
    "z_b = np.loadtxt('../Data/Topography/REF_BedTopo.dat')[:,1]     # bed evelation (m a.s.l.)\n",
    "\n",
    "H      = (z_s - z_b) * m                         # Ice thickness (m)\n",
    "α      = np.zeros_like(H) * m/m                  # Surface slope (m/m)\n",
    "# Surface slope only valid where H>0\n",
    "α[H>0] = np.gradient(z_s[H>0], x_c[H>0])         "
   ]
  },
  {
   "cell_type": "markdown",
   "metadata": {},
   "source": [
    "Now let's solve for the approximation of the basal shear stress ($\\tau_b$) for \"synthetic\" little Kluane "
   ]
  },
  {
   "cell_type": "code",
   "execution_count": 3,
   "metadata": {},
   "outputs": [],
   "source": [
    "# Approximation of the basal shear stress for LK\n",
    "𝜏 = ρ*g*H*np.sin(α)"
   ]
  },
  {
   "cell_type": "markdown",
   "metadata": {},
   "source": [
    "Now let's solve for the $\\beta$ corresponding to $u_b$ = 365 (m a$^{-1}$) or 1 (m d$^{-1}$). "
   ]
  },
  {
   "cell_type": "code",
   "execution_count": 4,
   "metadata": {},
   "outputs": [],
   "source": [
    "β_sqaured = 𝜏 / (365. * m /a)"
   ]
  },
  {
   "cell_type": "code",
   "execution_count": 5,
   "metadata": {},
   "outputs": [
    {
     "name": "stdout",
     "output_type": "stream",
     "text": [
      "β = 2.97e-04 megapascal * year / meter\n"
     ]
    }
   ],
   "source": [
    "print(\"β = {:.2e}\".format(np.mean(β_sqaured[β_sqaured>0.0])))"
   ]
  },
  {
   "cell_type": "code",
   "execution_count": 6,
   "metadata": {},
   "outputs": [
    {
     "data": {
      "text/plain": [
       "53.45224838248488"
      ]
     },
     "execution_count": 6,
     "metadata": {},
     "output_type": "execute_result"
    }
   ],
   "source": [
    "np.sqrt(1 / 3.5e-4)"
   ]
  }
 ],
 "metadata": {
  "kernelspec": {
   "display_name": "Python 3",
   "language": "python",
   "name": "python3"
  },
  "language_info": {
   "codemirror_mode": {
    "name": "ipython",
    "version": 3
   },
   "file_extension": ".py",
   "mimetype": "text/x-python",
   "name": "python",
   "nbconvert_exporter": "python",
   "pygments_lexer": "ipython3",
   "version": "3.7.8"
  },
  "latex_envs": {
   "LaTeX_envs_menu_present": true,
   "autoclose": true,
   "autocomplete": true,
   "bibliofile": "ipython.bib",
   "cite_by": "apalike",
   "current_citInitial": 1,
   "eqLabelWithNumbers": true,
   "eqNumInitial": 1,
   "hotkeys": {
    "equation": "Ctrl-E",
    "itemize": "Ctrl-I"
   },
   "labels_anchors": false,
   "latex_user_defs": false,
   "report_style_numbering": false,
   "user_envs_cfg": false
  }
 },
 "nbformat": 4,
 "nbformat_minor": 4
}
